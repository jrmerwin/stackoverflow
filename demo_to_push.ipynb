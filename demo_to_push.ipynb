{
 "cells": [
  {
   "cell_type": "markdown",
   "id": "90dc77f7",
   "metadata": {},
   "source": [
    "This is my first notebook here. I want to make sure I can do analysis here and then post it to github."
   ]
  },
  {
   "cell_type": "code",
   "execution_count": 3,
   "id": "e19346b8",
   "metadata": {},
   "outputs": [],
   "source": [
    "x = 1\n",
    "y = 2\n",
    "\n",
    "def simple_function(x, y): \n",
    "    '''\n",
    "    create a simple function that returns the product of x and y\n",
    "    '''\n",
    "    z = x*y\n",
    "    \n",
    "    return z"
   ]
  },
  {
   "cell_type": "code",
   "execution_count": 4,
   "id": "995ae70b",
   "metadata": {},
   "outputs": [
    {
     "data": {
      "text/plain": [
       "2"
      ]
     },
     "execution_count": 4,
     "metadata": {},
     "output_type": "execute_result"
    }
   ],
   "source": [
    "z = simple_function(x, y)\n",
    "z"
   ]
  },
  {
   "cell_type": "markdown",
   "id": "f58d3382",
   "metadata": {},
   "source": [
    "Now to push it to Github\n"
   ]
  }
 ],
 "metadata": {
  "kernelspec": {
   "display_name": "Python 3",
   "language": "python",
   "name": "python3"
  },
  "language_info": {
   "codemirror_mode": {
    "name": "ipython",
    "version": 3
   },
   "file_extension": ".py",
   "mimetype": "text/x-python",
   "name": "python",
   "nbconvert_exporter": "python",
   "pygments_lexer": "ipython3",
   "version": "3.8.10"
  }
 },
 "nbformat": 4,
 "nbformat_minor": 5
}
